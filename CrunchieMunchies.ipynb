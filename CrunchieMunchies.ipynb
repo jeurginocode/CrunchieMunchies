{
  "nbformat": 4,
  "nbformat_minor": 0,
  "metadata": {
    "colab": {
      "provenance": [],
      "authorship_tag": "ABX9TyOTIGEYSftEbQ2BCKS7dHaA",
      "include_colab_link": true
    },
    "kernelspec": {
      "name": "python3",
      "display_name": "Python 3"
    },
    "language_info": {
      "name": "python"
    }
  },
  "cells": [
    {
      "cell_type": "markdown",
      "metadata": {
        "id": "view-in-github",
        "colab_type": "text"
      },
      "source": [
        "<a href=\"https://colab.research.google.com/github/jeurginocode/CrunchieMunchies/blob/main/CrunchieMunchies.ipynb\" target=\"_parent\"><img src=\"https://colab.research.google.com/assets/colab-badge.svg\" alt=\"Open In Colab\"/></a>"
      ]
    },
    {
      "cell_type": "code",
      "execution_count": 1,
      "metadata": {
        "colab": {
          "base_uri": "https://localhost:8080/"
        },
        "id": "NJd9m8Yk8EOR",
        "outputId": "2077c998-ce44-46db-cc46-ab994875f886"
      },
      "outputs": [
        {
          "output_type": "stream",
          "name": "stdout",
          "text": [
            "El promedio de calorías de la competencia es: 106.88311688311688\n",
            "La diferencia entre el promedio de calorías de la competencia y las 60 calorías por porción de CrunchieMunchies es: 46.883116883116884\n",
            "la mediana es 110.0 y la media es:106.88311688311688 \n",
            "El percentil más bajo mayor a 60 calorías por porción es: 70.0\n",
            "El 96.1038961038961% de cereales tienen más de 60 calorías por porción. \n",
            "La desviación estándar de las calorías por porción es: 19.35718533390827\n"
          ]
        }
      ],
      "source": [
        "import numpy as np\n",
        "\n",
        "calorie_stats = np.genfromtxt('https://docs.google.com/spreadsheets/d/e/2PACX-1vQKkwKbwvlQmEYfxkWFCKAm2W1PGft2ju-a56uHUuqB29eT1a3lhn0-QNqVnJ8F5tzqGPKBR7SmTn3K/pub?gid=1140497679&single=true&output=csv', delimiter=',')\n",
        "average_calories = np.mean(calorie_stats)\n",
        "diferencia = average_calories - 60\n",
        "\n",
        "#promedio\n",
        "print(\"El promedio de calorías de la competencia es:\", average_calories)\n",
        "print(\"La diferencia entre el promedio de calorías de la competencia y las 60 calorías por porción de CrunchieMunchies es:\", diferencia)\n",
        "\n",
        "#orgnaizar los datos\n",
        "organizar_stats = np.sort(calorie_stats)\n",
        "\n",
        "#mediana\n",
        "median_calories = np.median(organizar_stats)\n",
        "print(f\"la mediana es {median_calories} y la media es:{average_calories} \")\n",
        "\n",
        "# percentil\n",
        "\n",
        "percentiles = np.arange(0, 100, 5)  # Percentiles de 0 a 95 en pasos de 5\n",
        "for percentile in percentiles:\n",
        "    nth_percentile = np.percentile(organizar_stats, percentile)\n",
        "    if nth_percentile > 60:\n",
        "        break\n",
        "print(\"El percentil más bajo mayor a 60 calorías por porción es:\", nth_percentile)\n",
        "\n",
        "\n",
        "# porcenatGE\n",
        "more_calories= np.mean(calorie_stats> 60)*100\n",
        "print(f\"El {more_calories}% de cereales tienen más de 60 calorías por porción. \")\n",
        "\n",
        "#desviación estándar\n",
        "\n",
        "calorie_std = np.std(organizar_stats)\n",
        "print(\"La desviación estándar de las calorías por porción es:\", calorie_std)\n",
        "\n"
      ]
    }
  ]
}