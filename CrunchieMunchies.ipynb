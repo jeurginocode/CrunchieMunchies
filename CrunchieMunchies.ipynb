{
  "nbformat": 4,
  "nbformat_minor": 0,
  "metadata": {
    "colab": {
      "provenance": [],
      "include_colab_link": true
    },
    "kernelspec": {
      "name": "python3",
      "display_name": "Python 3"
    },
    "language_info": {
      "name": "python"
    }
  },
  "cells": [
    {
      "cell_type": "markdown",
      "metadata": {
        "id": "view-in-github",
        "colab_type": "text"
      },
      "source": [
        "<a href=\"https://colab.research.google.com/github/jeurginocode/CrunchieMunchies/blob/main/CrunchieMunchies.ipynb\" target=\"_parent\"><img src=\"https://colab.research.google.com/assets/colab-badge.svg\" alt=\"Open In Colab\"/></a>"
      ]
    },
    {
      "cell_type": "code",
      "execution_count": null,
      "metadata": {
        "colab": {
          "base_uri": "https://localhost:8080/"
        },
        "id": "N4vZxt3D6KBP",
        "outputId": "c6fc08ac-f8d8-48ae-ff58-d326ca2e2182"
      },
      "outputs": [
        {
          "output_type": "stream",
          "name": "stdout",
          "text": [
            "el promedio de otras empresas es:  106.88311688311688\n",
            "el promedio de mi empresa es:  60\n",
            "la diferencia es de:  46.883116883116884\n",
            "[ 50.  50.  50.  70.  70.  80.  90.  90.  90.  90.  90.  90.  90. 100.\n",
            " 100. 100. 100. 100. 100. 100. 100. 100. 100. 100. 100. 100. 100. 100.\n",
            " 100. 100. 110. 110. 110. 110. 110. 110. 110. 110. 110. 110. 110. 110.\n",
            " 110. 110. 110. 110. 110. 110. 110. 110. 110. 110. 110. 110. 110. 110.\n",
            " 110. 110. 110. 120. 120. 120. 120. 120. 120. 120. 120. 120. 120. 130.\n",
            " 130. 140. 140. 140. 150. 150. 160.]\n",
            "La mediana de otras empresas es:  110.0\n",
            "La diferencia entre la media y la mediana de las empresas es:  3.116883116883116\n",
            "El menor percentil que es mayor a 60 calorias es de:  4 %\n",
            "El porcentaje de cereales con mas de 60 calorias por porcion es:  96.1038961038961 %\n",
            "La desviacion estandar de los datos es:  19.35718533390827 %\n",
            "Esto quiere decir que los datos se encuentran un 19.35718533390827 % alejados del centro\n"
          ]
        }
      ],
      "source": [
        "import numpy as np\n",
        "import requests\n",
        "from io import StringIO\n",
        "url = 'https://github.com/jesusrodinho/CrunchieMunchies/blob/main/cereal.csv'\n",
        "response = requests.get(url)\n",
        "data = response.text\n",
        "calory_stats = np.genfromtxt('/content/sample_data/cereal.csv', delimiter=',')\n",
        "# print(calory_stats)\n",
        "my_calories = 60\n",
        "average_calories = np.mean(calory_stats) - 60\n",
        "print(\"el promedio de otras empresas es: \", np.mean(calory_stats))\n",
        "print(\"el promedio de mi empresa es: \", 60)\n",
        "print(\"la diferencia es de: \", average_calories)\n",
        "print(np.sort(calory_stats))\n",
        "median_calories = np.median(calory_stats)\n",
        "print(\"La mediana de otras empresas es: \", median_calories)\n",
        "print(\"La diferencia entre la media y la mediana de las empresas es: \", median_calories - np.mean(calory_stats))\n",
        "i = 0\n",
        "nth_percentile = 0\n",
        "while nth_percentile < 60:\n",
        "  nth_percentile = np.percentile(calory_stats, i)\n",
        "  i += 1\n",
        "print(\"El menor percentil que es mayor a 60 calorias es de: \",i-1, \"%\")\n",
        "more_calories = (len(calory_stats[calory_stats > 60])) / len(calory_stats) * 100\n",
        "print(\"El porcentaje de cereales con mas de 60 calorias por porcion es: \", more_calories, \"%\")\n",
        "calorie_std = np.std(calory_stats)\n",
        "print(\"La desviacion estandar de los datos es: \", calorie_std, \"%\")\n",
        "print(\"Esto quiere decir que los datos se encuentran un\", calorie_std, \"% alejados del centro\")"
      ]
    },
    {
      "cell_type": "markdown",
      "source": [
        "Hecho por Jesús David Rodiño Villera\n",
        "(jesus.rodinov@upb.edu.co) id: 000538725\n"
      ],
      "metadata": {
        "id": "TlGDsLLB1YAy"
      }
    },
    {
      "cell_type": "code",
      "source": [],
      "metadata": {
        "id": "g9JuEhPw1iaU"
      },
      "execution_count": null,
      "outputs": []
    }
  ]
}