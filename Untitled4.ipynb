{
  "nbformat": 4,
  "nbformat_minor": 0,
  "metadata": {
    "colab": {
      "provenance": [],
      "authorship_tag": "ABX9TyPLaC2ZlGT73tDSUYelCOwT",
      "include_colab_link": true
    },
    "kernelspec": {
      "name": "python3",
      "display_name": "Python 3"
    },
    "language_info": {
      "name": "python"
    }
  },
  "cells": [
    {
      "cell_type": "markdown",
      "metadata": {
        "id": "view-in-github",
        "colab_type": "text"
      },
      "source": [
        "<a href=\"https://colab.research.google.com/github/jeurginocode/CrunchieMunchies/blob/main/Untitled4.ipynb\" target=\"_parent\"><img src=\"https://colab.research.google.com/assets/colab-badge.svg\" alt=\"Open In Colab\"/></a>"
      ]
    },
    {
      "cell_type": "code",
      "execution_count": 2,
      "metadata": {
        "colab": {
          "base_uri": "https://localhost:8080/",
          "height": 1000
        },
        "id": "NJd9m8Yk8EOR",
        "outputId": "aa7fb10d-d3ac-4db1-f663-e7062a598d84"
      },
      "outputs": [
        {
          "output_type": "error",
          "ename": "ValueError",
          "evalue": "Some errors were detected !\n    Line #3 (got 1312 columns instead of 1)\n    Line #5 (got 2 columns instead of 1)\n    Line #11 (got 34 columns instead of 1)\n    Line #12 (got 2 columns instead of 1)\n    Line #13 (got 4 columns instead of 1)\n    Line #14 (got 12 columns instead of 1)\n    Line #15 (got 7 columns instead of 1)\n    Line #16 (got 3 columns instead of 1)\n    Line #17 (got 8 columns instead of 1)\n    Line #18 (got 9 columns instead of 1)\n    Line #19 (got 9 columns instead of 1)\n    Line #20 (got 31 columns instead of 1)\n    Line #21 (got 25 columns instead of 1)\n    Line #22 (got 16 columns instead of 1)\n    Line #23 (got 16 columns instead of 1)\n    Line #24 (got 12 columns instead of 1)\n    Line #25 (got 6 columns instead of 1)\n    Line #26 (got 10 columns instead of 1)\n    Line #27 (got 10 columns instead of 1)\n    Line #28 (got 7 columns instead of 1)\n    Line #29 (got 6 columns instead of 1)\n    Line #30 (got 4 columns instead of 1)\n    Line #31 (got 6 columns instead of 1)\n    Line #32 (got 3 columns instead of 1)\n    Line #33 (got 6 columns instead of 1)\n    Line #34 (got 8 columns instead of 1)\n    Line #35 (got 8 columns instead of 1)\n    Line #36 (got 14 columns instead of 1)\n    Line #37 (got 12 columns instead of 1)\n    Line #38 (got 11 columns instead of 1)\n    Line #39 (got 7 columns instead of 1)\n    Line #40 (got 11 columns instead of 1)\n    Line #41 (got 9 columns instead of 1)\n    Line #42 (got 3 columns instead of 1)\n    Line #43 (got 7 columns instead of 1)\n    Line #44 (got 18 columns instead of 1)\n    Line #45 (got 12 columns instead of 1)\n    Line #46 (got 17 columns instead of 1)\n    Line #47 (got 9 columns instead of 1)\n    Line #48 (got 6 columns instead of 1)\n    Line #49 (got 12 columns instead of 1)\n    Line #50 (got 13 columns instead of 1)\n    Line #51 (got 13 columns instead of 1)\n    Line #52 (got 10 columns instead of 1)\n    Line #53 (got 7 columns instead of 1)\n    Line #54 (got 4 columns instead of 1)\n    Line #55 (got 2 columns instead of 1)\n    Line #56 (got 10 columns instead of 1)\n    Line #57 (got 11 columns instead of 1)\n    Line #58 (got 10 columns instead of 1)\n    Line #59 (got 29 columns instead of 1)\n    Line #60 (got 26 columns instead of 1)\n    Line #61 (got 27 columns instead of 1)\n    Line #62 (got 12 columns instead of 1)\n    Line #63 (got 16 columns instead of 1)\n    Line #64 (got 34 columns instead of 1)\n    Line #65 (got 28 columns instead of 1)\n    Line #66 (got 74 columns instead of 1)\n    Line #67 (got 25 columns instead of 1)\n    Line #68 (got 5 columns instead of 1)\n    Line #71 (got 2 columns instead of 1)\n    Line #74 (got 28 columns instead of 1)\n    Line #78 (got 3 columns instead of 1)\n    Line #80 (got 11 columns instead of 1)\n    Line #83 (got 8 columns instead of 1)\n    Line #86 (got 2 columns instead of 1)\n    Line #89 (got 6 columns instead of 1)\n    Line #92 (got 4 columns instead of 1)\n    Line #95 (got 2 columns instead of 1)\n    Line #101 (got 5 columns instead of 1)\n    Line #108 (got 5 columns instead of 1)\n    Line #109 (got 13 columns instead of 1)\n    Line #110 (got 12 columns instead of 1)\n    Line #111 (got 4 columns instead of 1)\n    Line #112 (got 6 columns instead of 1)\n    Line #113 (got 5 columns instead of 1)\n    Line #114 (got 2 columns instead of 1)\n    Line #117 (got 8 columns instead of 1)\n    Line #118 (got 4 columns instead of 1)\n    Line #121 (got 32 columns instead of 1)\n    Line #125 (got 2 columns instead of 1)",
          "traceback": [
            "\u001b[0;31m---------------------------------------------------------------------------\u001b[0m",
            "\u001b[0;31mValueError\u001b[0m                                Traceback (most recent call last)",
            "\u001b[0;32m<ipython-input-2-de5b9a92f9e8>\u001b[0m in \u001b[0;36m<cell line: 5>\u001b[0;34m()\u001b[0m\n\u001b[1;32m      3\u001b[0m \u001b[0;34m\u001b[0m\u001b[0m\n\u001b[1;32m      4\u001b[0m \u001b[0;34m\u001b[0m\u001b[0m\n\u001b[0;32m----> 5\u001b[0;31m \u001b[0mcalorie_stats\u001b[0m \u001b[0;34m=\u001b[0m \u001b[0mnp\u001b[0m\u001b[0;34m.\u001b[0m\u001b[0mgenfromtxt\u001b[0m\u001b[0;34m(\u001b[0m\u001b[0;34m'https://drive.google.com/file/d/1U7fJ3uiLWGUT60dWDPnOuBwFwGsaEGIS/view?usp=sharing'\u001b[0m\u001b[0;34m,\u001b[0m \u001b[0mdelimiter\u001b[0m\u001b[0;34m=\u001b[0m\u001b[0;34m','\u001b[0m\u001b[0;34m)\u001b[0m\u001b[0;34m\u001b[0m\u001b[0;34m\u001b[0m\u001b[0m\n\u001b[0m\u001b[1;32m      6\u001b[0m \u001b[0maverage_calories\u001b[0m \u001b[0;34m=\u001b[0m \u001b[0mnp\u001b[0m\u001b[0;34m.\u001b[0m\u001b[0mmean\u001b[0m\u001b[0;34m(\u001b[0m\u001b[0mcalorie_stats\u001b[0m\u001b[0;34m)\u001b[0m\u001b[0;34m\u001b[0m\u001b[0;34m\u001b[0m\u001b[0m\n\u001b[1;32m      7\u001b[0m \u001b[0mdiferencia\u001b[0m \u001b[0;34m=\u001b[0m \u001b[0maverage_calories\u001b[0m \u001b[0;34m-\u001b[0m \u001b[0;36m60\u001b[0m\u001b[0;34m\u001b[0m\u001b[0;34m\u001b[0m\u001b[0m\n",
            "\u001b[0;32m/usr/local/lib/python3.10/dist-packages/numpy/lib/npyio.py\u001b[0m in \u001b[0;36mgenfromtxt\u001b[0;34m(fname, dtype, comments, delimiter, skip_header, skip_footer, converters, missing_values, filling_values, usecols, names, excludelist, deletechars, replace_space, autostrip, case_sensitive, defaultfmt, unpack, usemask, loose, invalid_raise, max_rows, encoding, ndmin, like)\u001b[0m\n\u001b[1;32m   2310\u001b[0m             \u001b[0;31m# Raise an exception ?\u001b[0m\u001b[0;34m\u001b[0m\u001b[0;34m\u001b[0m\u001b[0m\n\u001b[1;32m   2311\u001b[0m             \u001b[0;32mif\u001b[0m \u001b[0minvalid_raise\u001b[0m\u001b[0;34m:\u001b[0m\u001b[0;34m\u001b[0m\u001b[0;34m\u001b[0m\u001b[0m\n\u001b[0;32m-> 2312\u001b[0;31m                 \u001b[0;32mraise\u001b[0m \u001b[0mValueError\u001b[0m\u001b[0;34m(\u001b[0m\u001b[0merrmsg\u001b[0m\u001b[0;34m)\u001b[0m\u001b[0;34m\u001b[0m\u001b[0;34m\u001b[0m\u001b[0m\n\u001b[0m\u001b[1;32m   2313\u001b[0m             \u001b[0;31m# Issue a warning ?\u001b[0m\u001b[0;34m\u001b[0m\u001b[0;34m\u001b[0m\u001b[0m\n\u001b[1;32m   2314\u001b[0m             \u001b[0;32melse\u001b[0m\u001b[0;34m:\u001b[0m\u001b[0;34m\u001b[0m\u001b[0;34m\u001b[0m\u001b[0m\n",
            "\u001b[0;31mValueError\u001b[0m: Some errors were detected !\n    Line #3 (got 1312 columns instead of 1)\n    Line #5 (got 2 columns instead of 1)\n    Line #11 (got 34 columns instead of 1)\n    Line #12 (got 2 columns instead of 1)\n    Line #13 (got 4 columns instead of 1)\n    Line #14 (got 12 columns instead of 1)\n    Line #15 (got 7 columns instead of 1)\n    Line #16 (got 3 columns instead of 1)\n    Line #17 (got 8 columns instead of 1)\n    Line #18 (got 9 columns instead of 1)\n    Line #19 (got 9 columns instead of 1)\n    Line #20 (got 31 columns instead of 1)\n    Line #21 (got 25 columns instead of 1)\n    Line #22 (got 16 columns instead of 1)\n    Line #23 (got 16 columns instead of 1)\n    Line #24 (got 12 columns instead of 1)\n    Line #25 (got 6 columns instead of 1)\n    Line #26 (got 10 columns instead of 1)\n    Line #27 (got 10 columns instead of 1)\n    Line #28 (got 7 columns instead of 1)\n    Line #29 (got 6 columns instead of 1)\n    Line #30 (got 4 columns instead of 1)\n    Line #31 (got 6 columns instead of 1)\n    Line #32 (got 3 columns instead of 1)\n    Line #33 (got 6 columns instead of 1)\n    Line #34 (got 8 columns instead of 1)\n    Line #35 (got 8 columns instead of 1)\n    Line #36 (got 14 columns instead of 1)\n    Line #37 (got 12 columns instead of 1)\n    Line #38 (got 11 columns instead of 1)\n    Line #39 (got 7 columns instead of 1)\n    Line #40 (got 11 columns instead of 1)\n    Line #41 (got 9 columns instead of 1)\n    Line #42 (got 3 columns instead of 1)\n    Line #43 (got 7 columns instead of 1)\n    Line #44 (got 18 columns instead of 1)\n    Line #45 (got 12 columns instead of 1)\n    Line #46 (got 17 columns instead of 1)\n    Line #47 (got 9 columns instead of 1)\n    Line #48 (got 6 columns instead of 1)\n    Line #49 (got 12 columns instead of 1)\n    Line #50 (got 13 columns instead of 1)\n    Line #51 (got 13 columns instead of 1)\n    Line #52 (got 10 columns instead of 1)\n    Line #53 (got 7 columns instead of 1)\n    Line #54 (got 4 columns instead of 1)\n    Line #55 (got 2 columns instead of 1)\n    Line #56 (got 10 columns instead of 1)\n    Line #57 (got 11 columns instead of 1)\n    Line #58 (got 10 columns instead of 1)\n    Line #59 (got 29 columns instead of 1)\n    Line #60 (got 26 columns instead of 1)\n    Line #61 (got 27 columns instead of 1)\n    Line #62 (got 12 columns instead of 1)\n    Line #63 (got 16 columns instead of 1)\n    Line #64 (got 34 columns instead of 1)\n    Line #65 (got 28 columns instead of 1)\n    Line #66 (got 74 columns instead of 1)\n    Line #67 (got 25 columns instead of 1)\n    Line #68 (got 5 columns instead of 1)\n    Line #71 (got 2 columns instead of 1)\n    Line #74 (got 28 columns instead of 1)\n    Line #78 (got 3 columns instead of 1)\n    Line #80 (got 11 columns instead of 1)\n    Line #83 (got 8 columns instead of 1)\n    Line #86 (got 2 columns instead of 1)\n    Line #89 (got 6 columns instead of 1)\n    Line #92 (got 4 columns instead of 1)\n    Line #95 (got 2 columns instead of 1)\n    Line #101 (got 5 columns instead of 1)\n    Line #108 (got 5 columns instead of 1)\n    Line #109 (got 13 columns instead of 1)\n    Line #110 (got 12 columns instead of 1)\n    Line #111 (got 4 columns instead of 1)\n    Line #112 (got 6 columns instead of 1)\n    Line #113 (got 5 columns instead of 1)\n    Line #114 (got 2 columns instead of 1)\n    Line #117 (got 8 columns instead of 1)\n    Line #118 (got 4 columns instead of 1)\n    Line #121 (got 32 columns instead of 1)\n    Line #125 (got 2 columns instead of 1)"
          ]
        }
      ],
      "source": [
        "import numpy as np\n",
        "\n",
        "\n",
        "\n",
        "calorie_stats = np.genfromtxt('https://drive.google.com/file/d/1U7fJ3uiLWGUT60dWDPnOuBwFwGsaEGIS/view?usp=sharing', delimiter=',')\n",
        "average_calories = np.mean(calorie_stats)\n",
        "diferencia = average_calories - 60\n",
        "\n",
        "#\n",
        "print(\"El promedio de calorías de la competencia es:\", average_calories)\n",
        "\n",
        "print(\"La diferencia entre el promedio de calorías de la competencia y las 60 calorías por porción de CrunchieMunchies es:\", diferencia)\n",
        "\n",
        "#orgnaizar los datos\n",
        "organizar_stats = np.sort(calorie_stats)\n",
        "print(organizar_stats)\n",
        "#mediana\n",
        "median_calories = np.median(organizar_stats)\n",
        "print(f\"la mediana es {median_calories} y la media es:{average_calories} \")\n",
        "\n",
        "# percentil\n",
        "# a= np.array(organizar_stats)\n",
        "# nth_percentile=np.percentile(a, 4)\n",
        "# print(nth_percentile)\n",
        "# while percentil_value > 60:\n",
        "#   percentil_value = np.percentile(organizar_stats, p)\n",
        "#   p += 1\n",
        "#   if percentile_value > 60:\n",
        "#     print(percentile_value)\n",
        "\n",
        "# porcenatGE\n",
        "more_calories= np.mean(calorie_stats> 60)*100\n",
        "print(more_calories)\n",
        "\n",
        "# contador = np.sum(calorie_stats > 60)\n",
        "# total_cereales = len(calorie_stats)\n",
        "# porcentaje = (contador / total_cereales) * 100\n",
        "# print(porcentaje)\n",
        "# promedio_array2 = np.mean(array2)\n"
      ]
    },
    {
      "cell_type": "code",
      "source": [
        "from google.colab import drive\n",
        "a=drive.mount('/content/drive')\n",
        "\n",
        "print(a)"
      ],
      "metadata": {
        "id": "OCflm8PL-1Hj",
        "outputId": "088013d4-10a3-4b04-f029-90cd4caace0c",
        "colab": {
          "base_uri": "https://localhost:8080/",
          "height": 356
        }
      },
      "execution_count": 4,
      "outputs": [
        {
          "output_type": "error",
          "ename": "ValueError",
          "evalue": "Mountpoint must be in a directory that exists",
          "traceback": [
            "\u001b[0;31m---------------------------------------------------------------------------\u001b[0m",
            "\u001b[0;31mValueError\u001b[0m                                Traceback (most recent call last)",
            "\u001b[0;32m<ipython-input-4-fd04831013e0>\u001b[0m in \u001b[0;36m<cell line: 2>\u001b[0;34m()\u001b[0m\n\u001b[1;32m      1\u001b[0m \u001b[0;32mfrom\u001b[0m \u001b[0mgoogle\u001b[0m\u001b[0;34m.\u001b[0m\u001b[0mcolab\u001b[0m \u001b[0;32mimport\u001b[0m \u001b[0mdrive\u001b[0m\u001b[0;34m\u001b[0m\u001b[0;34m\u001b[0m\u001b[0m\n\u001b[0;32m----> 2\u001b[0;31m \u001b[0ma\u001b[0m\u001b[0;34m=\u001b[0m\u001b[0mdrive\u001b[0m\u001b[0;34m.\u001b[0m\u001b[0mmount\u001b[0m\u001b[0;34m(\u001b[0m\u001b[0;34m'https://drive.google.com/file/d/1U7fJ3uiLWGUT60dWDPnOuBwFwGsaEGIS/view?usp=sharing'\u001b[0m\u001b[0;34m)\u001b[0m\u001b[0;34m\u001b[0m\u001b[0;34m\u001b[0m\u001b[0m\n\u001b[0m\u001b[1;32m      3\u001b[0m \u001b[0;34m\u001b[0m\u001b[0m\n\u001b[1;32m      4\u001b[0m \u001b[0mprint\u001b[0m\u001b[0;34m(\u001b[0m\u001b[0ma\u001b[0m\u001b[0;34m)\u001b[0m\u001b[0;34m\u001b[0m\u001b[0;34m\u001b[0m\u001b[0m\n",
            "\u001b[0;32m/usr/local/lib/python3.10/dist-packages/google/colab/drive.py\u001b[0m in \u001b[0;36mmount\u001b[0;34m(mountpoint, force_remount, timeout_ms, readonly)\u001b[0m\n\u001b[1;32m     98\u001b[0m \u001b[0;32mdef\u001b[0m \u001b[0mmount\u001b[0m\u001b[0;34m(\u001b[0m\u001b[0mmountpoint\u001b[0m\u001b[0;34m,\u001b[0m \u001b[0mforce_remount\u001b[0m\u001b[0;34m=\u001b[0m\u001b[0;32mFalse\u001b[0m\u001b[0;34m,\u001b[0m \u001b[0mtimeout_ms\u001b[0m\u001b[0;34m=\u001b[0m\u001b[0;36m120000\u001b[0m\u001b[0;34m,\u001b[0m \u001b[0mreadonly\u001b[0m\u001b[0;34m=\u001b[0m\u001b[0;32mFalse\u001b[0m\u001b[0;34m)\u001b[0m\u001b[0;34m:\u001b[0m\u001b[0;34m\u001b[0m\u001b[0;34m\u001b[0m\u001b[0m\n\u001b[1;32m     99\u001b[0m   \u001b[0;34m\"\"\"Mount your Google Drive at the specified mountpoint path.\"\"\"\u001b[0m\u001b[0;34m\u001b[0m\u001b[0;34m\u001b[0m\u001b[0m\n\u001b[0;32m--> 100\u001b[0;31m   return _mount(\n\u001b[0m\u001b[1;32m    101\u001b[0m       \u001b[0mmountpoint\u001b[0m\u001b[0;34m,\u001b[0m\u001b[0;34m\u001b[0m\u001b[0;34m\u001b[0m\u001b[0m\n\u001b[1;32m    102\u001b[0m       \u001b[0mforce_remount\u001b[0m\u001b[0;34m=\u001b[0m\u001b[0mforce_remount\u001b[0m\u001b[0;34m,\u001b[0m\u001b[0;34m\u001b[0m\u001b[0;34m\u001b[0m\u001b[0m\n",
            "\u001b[0;32m/usr/local/lib/python3.10/dist-packages/google/colab/drive.py\u001b[0m in \u001b[0;36m_mount\u001b[0;34m(mountpoint, force_remount, timeout_ms, ephemeral, readonly)\u001b[0m\n\u001b[1;32m    196\u001b[0m     \u001b[0mnormed\u001b[0m \u001b[0;34m=\u001b[0m \u001b[0m_os\u001b[0m\u001b[0;34m.\u001b[0m\u001b[0mpath\u001b[0m\u001b[0;34m.\u001b[0m\u001b[0mnormpath\u001b[0m\u001b[0;34m(\u001b[0m\u001b[0mmountpoint\u001b[0m\u001b[0;34m)\u001b[0m\u001b[0;34m\u001b[0m\u001b[0;34m\u001b[0m\u001b[0m\n\u001b[1;32m    197\u001b[0m     \u001b[0;32mif\u001b[0m \u001b[0;34m'/'\u001b[0m \u001b[0;32min\u001b[0m \u001b[0mnormed\u001b[0m \u001b[0;32mand\u001b[0m \u001b[0;32mnot\u001b[0m \u001b[0m_os\u001b[0m\u001b[0;34m.\u001b[0m\u001b[0mpath\u001b[0m\u001b[0;34m.\u001b[0m\u001b[0mexists\u001b[0m\u001b[0;34m(\u001b[0m\u001b[0m_os\u001b[0m\u001b[0;34m.\u001b[0m\u001b[0mpath\u001b[0m\u001b[0;34m.\u001b[0m\u001b[0mdirname\u001b[0m\u001b[0;34m(\u001b[0m\u001b[0mnormed\u001b[0m\u001b[0;34m)\u001b[0m\u001b[0;34m)\u001b[0m\u001b[0;34m:\u001b[0m\u001b[0;34m\u001b[0m\u001b[0;34m\u001b[0m\u001b[0m\n\u001b[0;32m--> 198\u001b[0;31m       \u001b[0;32mraise\u001b[0m \u001b[0mValueError\u001b[0m\u001b[0;34m(\u001b[0m\u001b[0;34m'Mountpoint must be in a directory that exists'\u001b[0m\u001b[0;34m)\u001b[0m\u001b[0;34m\u001b[0m\u001b[0;34m\u001b[0m\u001b[0m\n\u001b[0m\u001b[1;32m    199\u001b[0m   \u001b[0;32mexcept\u001b[0m\u001b[0;34m:\u001b[0m\u001b[0;34m\u001b[0m\u001b[0;34m\u001b[0m\u001b[0m\n\u001b[1;32m    200\u001b[0m     \u001b[0md\u001b[0m\u001b[0;34m.\u001b[0m\u001b[0mkill\u001b[0m\u001b[0;34m(\u001b[0m\u001b[0m_signal\u001b[0m\u001b[0;34m.\u001b[0m\u001b[0mSIGKILL\u001b[0m\u001b[0;34m)\u001b[0m\u001b[0;34m\u001b[0m\u001b[0;34m\u001b[0m\u001b[0m\n",
            "\u001b[0;31mValueError\u001b[0m: Mountpoint must be in a directory that exists"
          ]
        }
      ]
    }
  ]
}