{
  "nbformat": 4,
  "nbformat_minor": 0,
  "metadata": {
    "colab": {
      "provenance": [],
      "authorship_tag": "ABX9TyMjRWRhCWyCciP/5bKOFW58",
      "include_colab_link": true
    },
    "kernelspec": {
      "name": "python3",
      "display_name": "Python 3"
    },
    "language_info": {
      "name": "python"
    }
  },
  "cells": [
    {
      "cell_type": "markdown",
      "metadata": {
        "id": "view-in-github",
        "colab_type": "text"
      },
      "source": [
        "<a href=\"https://colab.research.google.com/github/jeurginocode/CrunchieMunchies/blob/main/Untitled4.ipynb\" target=\"_parent\"><img src=\"https://colab.research.google.com/assets/colab-badge.svg\" alt=\"Open In Colab\"/></a>"
      ]
    },
    {
      "cell_type": "code",
      "execution_count": 57,
      "metadata": {
        "colab": {
          "base_uri": "https://localhost:8080/"
        },
        "id": "NJd9m8Yk8EOR",
        "outputId": "14d2f56b-e2e5-4e36-f050-0978782fb617"
      },
      "outputs": [
        {
          "output_type": "stream",
          "name": "stdout",
          "text": [
            "El promedio de calorías de la competencia es: 106.88311688311688\n",
            "La diferencia entre el promedio de calorías de la competencia y las 60 calorías por porción de CrunchieMunchies es: 46.883116883116884\n",
            "[ 50.  50.  50.  70.  70.  80.  90.  90.  90.  90.  90.  90.  90. 100.\n",
            " 100. 100. 100. 100. 100. 100. 100. 100. 100. 100. 100. 100. 100. 100.\n",
            " 100. 100. 110. 110. 110. 110. 110. 110. 110. 110. 110. 110. 110. 110.\n",
            " 110. 110. 110. 110. 110. 110. 110. 110. 110. 110. 110. 110. 110. 110.\n",
            " 110. 110. 110. 120. 120. 120. 120. 120. 120. 120. 120. 120. 120. 130.\n",
            " 130. 140. 140. 140. 150. 150. 160.]\n",
            "la mediana es 110.0 y la media es:106.88311688311688 \n",
            "55.599999999999994\n"
          ]
        }
      ],
      "source": [
        "import numpy as np\n",
        "\n",
        "calorie_stats = np.genfromtxt('/content/sample_data/cereal.csv', delimiter=',')\n",
        "average_calories = np.mean(calorie_stats)\n",
        "diferencia = average_calories - 60\n",
        "\n",
        "#\n",
        "print(\"El promedio de calorías de la competencia es:\", average_calories)\n",
        "\n",
        "print(\"La diferencia entre el promedio de calorías de la competencia y las 60 calorías por porción de CrunchieMunchies es:\", diferencia)\n",
        "\n",
        "#orgnaizar los datos\n",
        "organizar_stats = np.sort(calorie_stats)\n",
        "print(organizar_stats)\n",
        "#mediana\n",
        "median_calories = np.median(organizar_stats)\n",
        "print(f\"la mediana es {median_calories} y la media es:{average_calories} \")\n",
        "\n",
        "# percentil\n",
        "a= np.array(organizar_stats)\n",
        "nth_percentile=np.percentile(a, 4)\n",
        "print(nth_percentile)\n",
        "\n",
        "# promedio_array2 = np.mean(array2)\n",
        "# with open(calorie_stats, 'w', newline='') as archivo_csv:\n",
        "#     escritor_csv = np.writer(archivo_csv)\n",
        "#     escritor_csv.writerow()"
      ]
    }
  ]
}